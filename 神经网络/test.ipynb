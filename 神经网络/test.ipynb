{
 "cells": [
  {
   "cell_type": "code",
   "execution_count": 1,
   "metadata": {},
   "outputs": [],
   "source": [
    "import numpy as np"
   ]
  },
  {
   "cell_type": "code",
   "execution_count": 2,
   "metadata": {},
   "outputs": [
    {
     "data": {
      "text/plain": [
       "array([[0.13435018, 0.0662484 , 0.92311873],\n",
       "       [0.63454   , 0.83664824, 0.32958678],\n",
       "       [0.75831764, 0.02595873, 0.42894524],\n",
       "       [0.81718118, 0.79095973, 0.21695175],\n",
       "       [0.48970326, 0.76292347, 0.41571616],\n",
       "       [0.48965406, 0.15206117, 0.0802254 ],\n",
       "       [0.34081007, 0.53542763, 0.63897178],\n",
       "       [0.8593878 , 0.61005054, 0.02054168],\n",
       "       [0.79876034, 0.31850296, 0.71911465],\n",
       "       [0.08014579, 0.57143506, 0.54727004],\n",
       "       [0.75268261, 0.59737891, 0.80693573],\n",
       "       [0.55863626, 0.4364929 , 0.70535954]])"
      ]
     },
     "execution_count": 2,
     "metadata": {},
     "output_type": "execute_result"
    }
   ],
   "source": [
    "data=np.random.rand(12,3)\n",
    "data"
   ]
  },
  {
   "cell_type": "code",
   "execution_count": 3,
   "metadata": {},
   "outputs": [
    {
     "name": "stdout",
     "output_type": "stream",
     "text": [
      "[5, 10]\n"
     ]
    },
    {
     "data": {
      "text/plain": [
       "[array([[0.13435018, 0.0662484 , 0.92311873],\n",
       "        [0.63454   , 0.83664824, 0.32958678],\n",
       "        [0.75831764, 0.02595873, 0.42894524],\n",
       "        [0.81718118, 0.79095973, 0.21695175],\n",
       "        [0.48970326, 0.76292347, 0.41571616]]),\n",
       " array([[0.48965406, 0.15206117, 0.0802254 ],\n",
       "        [0.34081007, 0.53542763, 0.63897178],\n",
       "        [0.8593878 , 0.61005054, 0.02054168],\n",
       "        [0.79876034, 0.31850296, 0.71911465],\n",
       "        [0.08014579, 0.57143506, 0.54727004]]),\n",
       " array([[0.75268261, 0.59737891, 0.80693573],\n",
       "        [0.55863626, 0.4364929 , 0.70535954]])]"
      ]
     },
     "execution_count": 3,
     "metadata": {},
     "output_type": "execute_result"
    }
   ],
   "source": [
    "def sony(data,batch):\n",
    "    n=len(data)//batch\n",
    "    ins=[batch*(i) for i in range(1,n+1)]\n",
    "    if ins[-1]==len(data):\n",
    "        ins.pop()\n",
    "    print(ins)\n",
    "    dat=np.split(data,ins,axis=0)\n",
    "\n",
    "    return dat\n",
    "sony(data,5)"
   ]
  },
  {
   "cell_type": "code",
   "execution_count": 4,
   "metadata": {},
   "outputs": [
    {
     "data": {
      "text/plain": [
       "array([0.65887217, 0.44398702, 0.56934741, 0.58281841, 0.96187559,\n",
       "       0.16154952, 0.32999038, 0.91512215, 0.81838424, 0.35590102])"
      ]
     },
     "execution_count": 4,
     "metadata": {},
     "output_type": "execute_result"
    }
   ],
   "source": [
    "x=np.random.rand(10)\n",
    "x"
   ]
  },
  {
   "cell_type": "code",
   "execution_count": 5,
   "metadata": {},
   "outputs": [
    {
     "data": {
      "text/plain": [
       "[array([0.65887217, 0.44398702]),\n",
       " array([0.56934741, 0.58281841, 0.96187559, 0.16154952]),\n",
       " array([0.32999038, 0.91512215, 0.81838424, 0.35590102])]"
      ]
     },
     "execution_count": 5,
     "metadata": {},
     "output_type": "execute_result"
    }
   ],
   "source": [
    "np.split(x,[2,6])"
   ]
  },
  {
   "cell_type": "code",
   "execution_count": 6,
   "metadata": {},
   "outputs": [
    {
     "data": {
      "text/plain": [
       "[0.68184]"
      ]
     },
     "execution_count": 6,
     "metadata": {},
     "output_type": "execute_result"
    }
   ],
   "source": [
    "p=np.array([2.60073, 1.41727, 0.34905 ,0.371  , 0.68184])\n",
    "l=[p[-1]]\n",
    "l"
   ]
  },
  {
   "cell_type": "code",
   "execution_count": 7,
   "metadata": {},
   "outputs": [
    {
     "data": {
      "text/plain": [
       "False"
      ]
     },
     "execution_count": 7,
     "metadata": {},
     "output_type": "execute_result"
    }
   ],
   "source": [
    "np.allclose(p,l)"
   ]
  },
  {
   "cell_type": "code",
   "execution_count": 11,
   "metadata": {},
   "outputs": [
    {
     "data": {
      "text/plain": [
       "array([[ 0.12349608, -0.47290977,  0.748175  , -0.55346134],\n",
       "       [-0.33114523,  0.43686683, -0.15938036, -1.78322167],\n",
       "       [-1.30388341,  0.86414789, -1.25792765,  0.91867009],\n",
       "       [-0.94682023, -0.70892539,  1.49691201, -0.56194787],\n",
       "       [ 1.33079981,  0.18235167, -0.30340244, -1.79514512]])"
      ]
     },
     "execution_count": 11,
     "metadata": {},
     "output_type": "execute_result"
    }
   ],
   "source": [
    "x=np.random.randn(5,4)\n",
    "x"
   ]
  },
  {
   "cell_type": "code",
   "execution_count": 12,
   "metadata": {},
   "outputs": [
    {
     "data": {
      "text/plain": [
       "array([[0.01525128, 0.22364365, 0.55976583, 0.30631945],\n",
       "       [0.10965717, 0.19085262, 0.0254021 , 3.17987953],\n",
       "       [1.70011195, 0.74675158, 1.58238197, 0.84395473],\n",
       "       [0.89646854, 0.50257521, 2.24074557, 0.31578541],\n",
       "       [1.77102814, 0.03325213, 0.09205304, 3.222546  ]])"
      ]
     },
     "execution_count": 12,
     "metadata": {},
     "output_type": "execute_result"
    }
   ],
   "source": [
    "np.power(x,2)"
   ]
  },
  {
   "cell_type": "code",
   "execution_count": 13,
   "metadata": {},
   "outputs": [
    {
     "data": {
      "text/plain": [
       "0.5476"
      ]
     },
     "execution_count": 13,
     "metadata": {},
     "output_type": "execute_result"
    }
   ],
   "source": [
    "0.74*0.74"
   ]
  },
  {
   "cell_type": "code",
   "execution_count": null,
   "metadata": {},
   "outputs": [],
   "source": []
  }
 ],
 "metadata": {
  "kernelspec": {
   "display_name": "yolo",
   "language": "python",
   "name": "python3"
  },
  "language_info": {
   "codemirror_mode": {
    "name": "ipython",
    "version": 3
   },
   "file_extension": ".py",
   "mimetype": "text/x-python",
   "name": "python",
   "nbconvert_exporter": "python",
   "pygments_lexer": "ipython3",
   "version": "3.10.13"
  }
 },
 "nbformat": 4,
 "nbformat_minor": 2
}
