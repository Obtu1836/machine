{
 "cells": [
  {
   "cell_type": "code",
   "execution_count": 66,
   "metadata": {},
   "outputs": [],
   "source": [
    "import numpy as np\n",
    "import pandas as pd"
   ]
  },
  {
   "cell_type": "code",
   "execution_count": 67,
   "metadata": {},
   "outputs": [],
   "source": [
    "data = np.array([[0, 1, 1, 0, 1, 1, 0, 0, 1, 1],\n",
    "                 [1, 1, 0, 0, 1, 0, 0, 0, 0, 0],\n",
    "                 [1, 0, 0, 0, 0, 0, 0, 0, 0, 1],\n",
    "                 [1, 1, 0, 1, 0, 1, 0, 1, 1, 1],\n",
    "                 [0, 0, 1, 0, 1, 0, 0, 0, 1, 0],\n",
    "                 [1, 0, 1, 1, 0, 0, 0, 0, 0, 1]])"
   ]
  },
  {
   "cell_type": "code",
   "execution_count": 68,
   "metadata": {},
   "outputs": [
    {
     "data": {
      "text/html": [
       "<div>\n",
       "<style scoped>\n",
       "    .dataframe tbody tr th:only-of-type {\n",
       "        vertical-align: middle;\n",
       "    }\n",
       "\n",
       "    .dataframe tbody tr th {\n",
       "        vertical-align: top;\n",
       "    }\n",
       "\n",
       "    .dataframe thead th {\n",
       "        text-align: right;\n",
       "    }\n",
       "</style>\n",
       "<table border=\"1\" class=\"dataframe\">\n",
       "  <thead>\n",
       "    <tr style=\"text-align: right;\">\n",
       "      <th></th>\n",
       "      <th>a</th>\n",
       "      <th>b</th>\n",
       "    </tr>\n",
       "  </thead>\n",
       "  <tbody>\n",
       "    <tr>\n",
       "      <th>0</th>\n",
       "      <td>0.55</td>\n",
       "      <td>0.45</td>\n",
       "    </tr>\n",
       "    <tr>\n",
       "      <th>1</th>\n",
       "      <td>0.27</td>\n",
       "      <td>0.73</td>\n",
       "    </tr>\n",
       "    <tr>\n",
       "      <th>2</th>\n",
       "      <td>0.19</td>\n",
       "      <td>0.81</td>\n",
       "    </tr>\n",
       "    <tr>\n",
       "      <th>3</th>\n",
       "      <td>0.65</td>\n",
       "      <td>0.35</td>\n",
       "    </tr>\n",
       "    <tr>\n",
       "      <th>4</th>\n",
       "      <td>0.27</td>\n",
       "      <td>0.73</td>\n",
       "    </tr>\n",
       "    <tr>\n",
       "      <th>5</th>\n",
       "      <td>0.35</td>\n",
       "      <td>0.65</td>\n",
       "    </tr>\n",
       "  </tbody>\n",
       "</table>\n",
       "</div>"
      ],
      "text/plain": [
       "      a     b\n",
       "0  0.55  0.45\n",
       "1  0.27  0.73\n",
       "2  0.19  0.81\n",
       "3  0.65  0.35\n",
       "4  0.27  0.73\n",
       "5  0.35  0.65"
      ]
     },
     "execution_count": 68,
     "metadata": {},
     "output_type": "execute_result"
    }
   ],
   "source": [
    "\n",
    "df=pd.DataFrame(data)\n",
    "\n",
    "def cal_z(ser,ps):\n",
    "\n",
    "    r=ps.map(lambda x:np.power(x,ser['x'])*np.power(1-x,ser['q']))\n",
    "    return (r.div(r.sum())).round(2)\n",
    "\n",
    "def e():\n",
    "    ps=pd.Series([0.6,0.5],index=['a','b'])\n",
    "    count=df.apply(lambda x:x.value_counts(),axis=1)\n",
    "    count.columns=['q','x']\n",
    "    c=count.apply(cal_z,axis=1,args=(ps,))\n",
    "    \n",
    "    return c\n",
    "\n",
    "z=e()\n",
    "z"
   ]
  },
  {
   "cell_type": "code",
   "execution_count": 114,
   "metadata": {},
   "outputs": [
    {
     "data": {
      "text/plain": [
       "a    0.49\n",
       "b    0.37\n",
       "dtype: float64"
      ]
     },
     "execution_count": 114,
     "metadata": {},
     "output_type": "execute_result"
    }
   ],
   "source": [
    "def f(ser,count):\n",
    "\n",
    "    res=(ser.values.T)*count.values\n",
    "\n",
    "    k=pd.DataFrame(res,columns=count.columns)\n",
    "\n",
    "\n",
    "    return k.sum()['x']/k.sum().sum()\n",
    "\n",
    "    # return pd.DataFrame(res,index=range(len(df)))\n",
    "\n",
    "\n",
    "def m():\n",
    "    count=df.apply(lambda x:x.value_counts(),axis=1)\n",
    "    count.columns=['q','x']\n",
    "    # print(count)\n",
    "\n",
    "    res=z.T.groupby(level=0).apply(f,count)\n",
    "\n",
    "    return res.round(2)\n",
    "\n",
    "m()\n"
   ]
  },
  {
   "cell_type": "code",
   "execution_count": null,
   "metadata": {},
   "outputs": [],
   "source": []
  }
 ],
 "metadata": {
  "kernelspec": {
   "display_name": "yolo",
   "language": "python",
   "name": "python3"
  },
  "language_info": {
   "codemirror_mode": {
    "name": "ipython",
    "version": 3
   },
   "file_extension": ".py",
   "mimetype": "text/x-python",
   "name": "python",
   "nbconvert_exporter": "python",
   "pygments_lexer": "ipython3",
   "version": "3.10.13"
  }
 },
 "nbformat": 4,
 "nbformat_minor": 2
}
