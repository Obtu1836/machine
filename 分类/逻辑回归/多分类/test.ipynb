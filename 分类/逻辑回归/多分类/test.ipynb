{
 "cells": [
  {
   "cell_type": "code",
   "execution_count": 1,
   "metadata": {},
   "outputs": [],
   "source": [
    "import numpy as np"
   ]
  },
  {
   "cell_type": "code",
   "execution_count": 2,
   "metadata": {},
   "outputs": [
    {
     "data": {
      "text/plain": [
       "array([[0.42271801, 0.17800213, 0.92690961, 0.49939755, 0.69514201],\n",
       "       [0.01664452, 0.12388824, 0.61309453, 0.06523172, 0.49834667],\n",
       "       [0.79498255, 0.84159081, 0.25191194, 0.75412213, 0.07197567],\n",
       "       [0.529538  , 0.51555441, 0.83907575, 0.31453491, 0.81104061]])"
      ]
     },
     "execution_count": 2,
     "metadata": {},
     "output_type": "execute_result"
    }
   ],
   "source": [
    "data=np.random.rand(4,5)\n",
    "data"
   ]
  },
  {
   "cell_type": "code",
   "execution_count": 4,
   "metadata": {},
   "outputs": [
    {
     "data": {
      "text/plain": [
       "array([[0.15528718, 0.06538981, 0.34050403, 0.18345573, 0.25536325],\n",
       "       [0.01263624, 0.09405383, 0.46545087, 0.04952281, 0.37833626],\n",
       "       [0.29285622, 0.31002581, 0.09279949, 0.27780403, 0.02651445],\n",
       "       [0.17594123, 0.17129512, 0.27878645, 0.10450555, 0.26947165]])"
      ]
     },
     "execution_count": 4,
     "metadata": {},
     "output_type": "execute_result"
    }
   ],
   "source": [
    "np.divide(data,data.sum(axis=1)[:,None])"
   ]
  },
  {
   "cell_type": "code",
   "execution_count": 7,
   "metadata": {},
   "outputs": [
    {
     "data": {
      "text/plain": [
       "array([[2.72216931],\n",
       "       [1.31720568],\n",
       "       [2.7145831 ],\n",
       "       [3.00974368]])"
      ]
     },
     "execution_count": 7,
     "metadata": {},
     "output_type": "execute_result"
    }
   ],
   "source": [
    "s=data.sum(axis=1,keepdims=1)\n",
    "s"
   ]
  },
  {
   "cell_type": "code",
   "execution_count": 8,
   "metadata": {},
   "outputs": [
    {
     "data": {
      "text/plain": [
       "0.1552871839780284"
      ]
     },
     "execution_count": 8,
     "metadata": {},
     "output_type": "execute_result"
    }
   ],
   "source": [
    "data[0,0]/s[0,0]"
   ]
  },
  {
   "cell_type": "code",
   "execution_count": null,
   "metadata": {},
   "outputs": [],
   "source": []
  }
 ],
 "metadata": {
  "kernelspec": {
   "display_name": "yolov8",
   "language": "python",
   "name": "python3"
  },
  "language_info": {
   "codemirror_mode": {
    "name": "ipython",
    "version": 3
   },
   "file_extension": ".py",
   "mimetype": "text/x-python",
   "name": "python",
   "nbconvert_exporter": "python",
   "pygments_lexer": "ipython3",
   "version": "3.10.13"
  }
 },
 "nbformat": 4,
 "nbformat_minor": 2
}
