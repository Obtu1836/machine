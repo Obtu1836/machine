{
 "cells": [
  {
   "cell_type": "code",
   "execution_count": 1,
   "metadata": {},
   "outputs": [],
   "source": [
    "from collections import defaultdict,Counter\n",
    "import numpy as np"
   ]
  },
  {
   "cell_type": "code",
   "execution_count": 2,
   "metadata": {},
   "outputs": [
    {
     "data": {
      "text/plain": [
       "Counter({(2, 1): 4, (0, 2): 3, (1, 0): 2, (1, 2): 2, (2, 0): 1, (2, 2): 1})"
      ]
     },
     "execution_count": 2,
     "metadata": {},
     "output_type": "execute_result"
    }
   ],
   "source": [
    "arr1=np.array([0,1,1,2,0,1,1,0,2,2,2,2,2])\n",
    "arr2=np.array([2,0,2,1,2,0,2,2,1,1,0,1,2])\n",
    "res=Counter(zip(arr1,arr2))\n",
    "res"
   ]
  },
  {
   "cell_type": "code",
   "execution_count": 3,
   "metadata": {},
   "outputs": [
    {
     "data": {
      "text/plain": [
       "defaultdict(list,\n",
       "            {0: [[0, 2, 3]],\n",
       "             1: [[1, 0, 2], [1, 2, 2]],\n",
       "             2: [[2, 1, 4], [2, 0, 1], [2, 2, 1]]})"
      ]
     },
     "execution_count": 3,
     "metadata": {},
     "output_type": "execute_result"
    }
   ],
   "source": [
    "d=defaultdict(list)\n",
    "for var in np.unique(arr1):\n",
    "    for k,v in res.items():\n",
    "        if k[0]==var:\n",
    "            d[var].append([*k,v])\n",
    "d"
   ]
  },
  {
   "cell_type": "code",
   "execution_count": 4,
   "metadata": {},
   "outputs": [
    {
     "data": {
      "text/plain": [
       "{0: 2, 1: 0, 2: 1}"
      ]
     },
     "execution_count": 4,
     "metadata": {},
     "output_type": "execute_result"
    }
   ],
   "source": [
    "inps=[]\n",
    "for r in d.values():\n",
    "    s=np.array(r)\n",
    "    inps.append(s[np.argmax(s[:,2])])\n",
    "\n",
    "inps=np.array(inps)\n",
    "sp=dict(zip(inps[:,0],inps[:,1]))\n",
    "sp\n"
   ]
  },
  {
   "cell_type": "code",
   "execution_count": 5,
   "metadata": {},
   "outputs": [
    {
     "data": {
      "text/plain": [
       "array([2, 0, 0, 1, 2, 0, 0, 2, 1, 1, 1, 1, 1])"
      ]
     },
     "execution_count": 5,
     "metadata": {},
     "output_type": "execute_result"
    }
   ],
   "source": [
    "arr3=np.array(list(map(lambda x:sp[x],arr1)))\n",
    "arr3"
   ]
  },
  {
   "cell_type": "code",
   "execution_count": 6,
   "metadata": {},
   "outputs": [
    {
     "data": {
      "text/plain": [
       "array([2, 0, 2, 1, 2, 0, 2, 2, 1, 1, 0, 1, 2])"
      ]
     },
     "execution_count": 6,
     "metadata": {},
     "output_type": "execute_result"
    }
   ],
   "source": [
    "arr2"
   ]
  },
  {
   "cell_type": "code",
   "execution_count": 7,
   "metadata": {},
   "outputs": [
    {
     "data": {
      "text/plain": [
       "0.6923076923076923"
      ]
     },
     "execution_count": 7,
     "metadata": {},
     "output_type": "execute_result"
    }
   ],
   "source": [
    "(arr3==arr2).sum()/len(arr1)"
   ]
  },
  {
   "cell_type": "code",
   "execution_count": null,
   "metadata": {},
   "outputs": [],
   "source": []
  },
  {
   "cell_type": "code",
   "execution_count": 9,
   "metadata": {},
   "outputs": [
    {
     "data": {
      "text/plain": [
       "array([[0.38593514, 0.20384937, 0.29982134, 0.9821253 , 0.02059397],\n",
       "       [0.39897563, 0.86913986, 0.08687057, 0.82605528, 0.50636821],\n",
       "       [0.11345218, 0.30728299, 0.8917219 , 0.95166514, 0.02473985],\n",
       "       [0.80800152, 0.93098954, 0.61470463, 0.41628792, 0.00845694],\n",
       "       [0.85000083, 0.03823983, 0.30226059, 0.83416956, 0.13779471]])"
      ]
     },
     "execution_count": 9,
     "metadata": {},
     "output_type": "execute_result"
    }
   ],
   "source": []
  },
  {
   "cell_type": "code",
   "execution_count": 15,
   "metadata": {},
   "outputs": [
    {
     "data": {
      "text/plain": [
       "array([[ 0, 96,  0,  4,  0],\n",
       "       [95,  0,  1,  0,  4],\n",
       "       [ 1,  0, 99,  0,  0],\n",
       "       [ 5,  0,  1,  0, 94],\n",
       "       [ 0,  3,  0, 97,  0]])"
      ]
     },
     "execution_count": 15,
     "metadata": {},
     "output_type": "execute_result"
    }
   ],
   "source": [
    "data=np.array([[ 0 ,96 , 0 , 4,  0],\n",
    "      [95 , 0 , 1 , 0,  4],\n",
    "      [ 1 , 0 ,99 , 0,  0],\n",
    "      [ 5 , 0 , 1 , 0, 94],\n",
    "      [ 0 , 3 , 0 ,97,  0],])\n",
    "data"
   ]
  },
  {
   "cell_type": "code",
   "execution_count": 19,
   "metadata": {},
   "outputs": [],
   "source": [
    "p=data.argmax(axis=0)\n",
    "s=np.array(range(5))"
   ]
  },
  {
   "cell_type": "code",
   "execution_count": 22,
   "metadata": {},
   "outputs": [
    {
     "data": {
      "text/plain": [
       "{0: 1, 1: 0, 2: 2, 3: 4, 4: 3}"
      ]
     },
     "execution_count": 22,
     "metadata": {},
     "output_type": "execute_result"
    }
   ],
   "source": [
    "dict(zip(s,p))"
   ]
  },
  {
   "cell_type": "code",
   "execution_count": null,
   "metadata": {},
   "outputs": [],
   "source": []
  }
 ],
 "metadata": {
  "kernelspec": {
   "display_name": "yolo",
   "language": "python",
   "name": "python3"
  },
  "language_info": {
   "codemirror_mode": {
    "name": "ipython",
    "version": 3
   },
   "file_extension": ".py",
   "mimetype": "text/x-python",
   "name": "python",
   "nbconvert_exporter": "python",
   "pygments_lexer": "ipython3",
   "version": "3.10.13"
  }
 },
 "nbformat": 4,
 "nbformat_minor": 2
}
