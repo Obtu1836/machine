{
 "cells": [
  {
   "cell_type": "code",
   "execution_count": 1,
   "metadata": {},
   "outputs": [],
   "source": [
    "import pandas as pd\n",
    "import numpy as np"
   ]
  },
  {
   "cell_type": "code",
   "execution_count": 2,
   "metadata": {},
   "outputs": [
    {
     "data": {
      "text/html": [
       "<div>\n",
       "<style scoped>\n",
       "    .dataframe tbody tr th:only-of-type {\n",
       "        vertical-align: middle;\n",
       "    }\n",
       "\n",
       "    .dataframe tbody tr th {\n",
       "        vertical-align: top;\n",
       "    }\n",
       "\n",
       "    .dataframe thead th {\n",
       "        text-align: right;\n",
       "    }\n",
       "</style>\n",
       "<table border=\"1\" class=\"dataframe\">\n",
       "  <thead>\n",
       "    <tr style=\"text-align: right;\">\n",
       "      <th></th>\n",
       "      <th>x1</th>\n",
       "      <th>x2</th>\n",
       "      <th>x3</th>\n",
       "      <th>x4</th>\n",
       "      <th>x5</th>\n",
       "      <th>x6</th>\n",
       "      <th>x7</th>\n",
       "      <th>x8</th>\n",
       "      <th>x9</th>\n",
       "      <th>x10</th>\n",
       "      <th>x11</th>\n",
       "      <th>x12</th>\n",
       "      <th>x13</th>\n",
       "      <th>x14</th>\n",
       "      <th>x15</th>\n",
       "      <th>x16</th>\n",
       "      <th>x17</th>\n",
       "      <th>x18</th>\n",
       "    </tr>\n",
       "  </thead>\n",
       "  <tbody>\n",
       "    <tr>\n",
       "      <th>0</th>\n",
       "      <td>0.629784</td>\n",
       "      <td>0.986896</td>\n",
       "      <td>0.314926</td>\n",
       "      <td>0.4575</td>\n",
       "      <td>0.166333</td>\n",
       "      <td>0.916593</td>\n",
       "      <td>0.15082</td>\n",
       "      <td>0.716858</td>\n",
       "      <td>0.067091</td>\n",
       "      <td>0.190591</td>\n",
       "      <td>0.56039</td>\n",
       "      <td>0.702581</td>\n",
       "      <td>0.993328</td>\n",
       "      <td>0.154033</td>\n",
       "      <td>0.008371</td>\n",
       "      <td>0.300603</td>\n",
       "      <td>0.874158</td>\n",
       "      <td>0.30951</td>\n",
       "    </tr>\n",
       "  </tbody>\n",
       "</table>\n",
       "</div>"
      ],
      "text/plain": [
       "         x1        x2        x3      x4        x5        x6       x7  \\\n",
       "0  0.629784  0.986896  0.314926  0.4575  0.166333  0.916593  0.15082   \n",
       "\n",
       "         x8        x9       x10      x11       x12       x13       x14  \\\n",
       "0  0.716858  0.067091  0.190591  0.56039  0.702581  0.993328  0.154033   \n",
       "\n",
       "        x15       x16       x17      x18  \n",
       "0  0.008371  0.300603  0.874158  0.30951  "
      ]
     },
     "execution_count": 2,
     "metadata": {},
     "output_type": "execute_result"
    }
   ],
   "source": [
    "n=18\n",
    "col_name=[('x'+str(i+1)) for i in range(n)]\n",
    "df=pd.DataFrame(np.random.rand(1,18),columns=col_name)\n",
    "df"
   ]
  },
  {
   "cell_type": "code",
   "execution_count": 5,
   "metadata": {},
   "outputs": [
    {
     "data": {
      "text/html": [
       "<div>\n",
       "<style scoped>\n",
       "    .dataframe tbody tr th:only-of-type {\n",
       "        vertical-align: middle;\n",
       "    }\n",
       "\n",
       "    .dataframe tbody tr th {\n",
       "        vertical-align: top;\n",
       "    }\n",
       "\n",
       "    .dataframe thead th {\n",
       "        text-align: right;\n",
       "    }\n",
       "</style>\n",
       "<table border=\"1\" class=\"dataframe\">\n",
       "  <thead>\n",
       "    <tr style=\"text-align: right;\">\n",
       "      <th></th>\n",
       "      <th>x1</th>\n",
       "      <th>x2</th>\n",
       "      <th>x3</th>\n",
       "      <th>x4</th>\n",
       "      <th>x5</th>\n",
       "      <th>x6</th>\n",
       "      <th>x7</th>\n",
       "      <th>x8</th>\n",
       "      <th>x9</th>\n",
       "      <th>x10</th>\n",
       "      <th>x11</th>\n",
       "      <th>x12</th>\n",
       "      <th>x13</th>\n",
       "      <th>x14</th>\n",
       "      <th>x15</th>\n",
       "      <th>x16</th>\n",
       "      <th>x17</th>\n",
       "      <th>x18</th>\n",
       "    </tr>\n",
       "  </thead>\n",
       "  <tbody>\n",
       "    <tr>\n",
       "      <th>0</th>\n",
       "      <td>0.629784</td>\n",
       "      <td>0.986896</td>\n",
       "      <td>0.314926</td>\n",
       "      <td>0.4575</td>\n",
       "      <td>0.166333</td>\n",
       "      <td>0.916593</td>\n",
       "      <td>0.15082</td>\n",
       "      <td>0.716858</td>\n",
       "      <td>0.067091</td>\n",
       "      <td>0.190591</td>\n",
       "      <td>0.56039</td>\n",
       "      <td>0.702581</td>\n",
       "      <td>0.993328</td>\n",
       "      <td>0.154033</td>\n",
       "      <td>0.008371</td>\n",
       "      <td>0.300603</td>\n",
       "      <td>0.874158</td>\n",
       "      <td>0.30951</td>\n",
       "    </tr>\n",
       "  </tbody>\n",
       "</table>\n",
       "</div>"
      ],
      "text/plain": [
       "         x1        x2        x3      x4        x5        x6       x7  \\\n",
       "0  0.629784  0.986896  0.314926  0.4575  0.166333  0.916593  0.15082   \n",
       "\n",
       "         x8        x9       x10      x11       x12       x13       x14  \\\n",
       "0  0.716858  0.067091  0.190591  0.56039  0.702581  0.993328  0.154033   \n",
       "\n",
       "        x15       x16       x17      x18  \n",
       "0  0.008371  0.300603  0.874158  0.30951  "
      ]
     },
     "execution_count": 5,
     "metadata": {},
     "output_type": "execute_result"
    }
   ],
   "source": [
    "df.reindex(columns=col_name)"
   ]
  },
  {
   "cell_type": "code",
   "execution_count": 1,
   "metadata": {},
   "outputs": [
    {
     "data": {
      "text/plain": [
       "0.42857142857142855"
      ]
     },
     "execution_count": 1,
     "metadata": {},
     "output_type": "execute_result"
    }
   ],
   "source": [
    "3/7"
   ]
  },
  {
   "cell_type": "code",
   "execution_count": null,
   "metadata": {},
   "outputs": [],
   "source": []
  }
 ],
 "metadata": {
  "kernelspec": {
   "display_name": "yolo",
   "language": "python",
   "name": "python3"
  },
  "language_info": {
   "codemirror_mode": {
    "name": "ipython",
    "version": 3
   },
   "file_extension": ".py",
   "mimetype": "text/x-python",
   "name": "python",
   "nbconvert_exporter": "python",
   "pygments_lexer": "ipython3",
   "version": "3.10.13"
  }
 },
 "nbformat": 4,
 "nbformat_minor": 2
}
